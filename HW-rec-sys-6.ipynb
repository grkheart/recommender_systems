{
 "cells": [
  {
   "cell_type": "code",
   "execution_count": 1,
   "id": "3d5b2726-1b84-47f8-a4a2-e1645785548b",
   "metadata": {},
   "outputs": [],
   "source": [
    "import pandas as pd\n",
    "import numpy as np\n",
    "import matplotlib.pyplot as plt\n",
    "%matplotlib inline\n",
    "\n",
    "from scipy.sparse import csr_matrix\n",
    "\n",
    "from implicit import als\n",
    "\n",
    "import os, sys\n",
    "module_path = os.path.abspath(os.path.join(os.pardir))\n",
    "if module_path not in sys.path:\n",
    "    sys.path.append(module_path)\n",
    "\n",
    "from src.metrics import precision_at_k, recall_at_k\n",
    "from src.utils import prefilter_items\n",
    "from src.recommenders import MainRecommender\n",
    "\n",
    "from warnings import filterwarnings\n",
    "filterwarnings(\"ignore\")"
   ]
  },
  {
   "cell_type": "code",
   "execution_count": 2,
   "id": "a92cc64b-d127-453e-986d-7263c4992197",
   "metadata": {},
   "outputs": [],
   "source": [
    "data = pd.read_csv('data/retail_train.csv')\n",
    "item_features = pd.read_csv('data/product.csv')\n",
    "user_features = pd.read_csv('data/hh_demographic.csv')"
   ]
  },
  {
   "cell_type": "code",
   "execution_count": 3,
   "id": "59281a63-ba89-48a7-9bbf-d58238863dc2",
   "metadata": {},
   "outputs": [],
   "source": [
    "ITEM_COL = 'item_id'\n",
    "USER_COL = 'user_id'"
   ]
  },
  {
   "cell_type": "code",
   "execution_count": 4,
   "id": "b7dee860-3c4a-4dcb-8427-feb04ece44c8",
   "metadata": {},
   "outputs": [],
   "source": [
    "item_features.columns = [col.lower() for col in item_features.columns]\n",
    "user_features.columns = [col.lower() for col in user_features.columns]\n",
    "\n",
    "item_features.rename(columns={'product_id': ITEM_COL}, inplace=True)\n",
    "user_features.rename(columns={'household_key': USER_COL }, inplace=True)"
   ]
  },
  {
   "cell_type": "code",
   "execution_count": 5,
   "id": "cd1fd10f-f3a5-4005-9bec-495a863838fd",
   "metadata": {},
   "outputs": [],
   "source": [
    "VAL_MATCHER_WEEKS = 6\n",
    "VAL_RANKER_WEEKS = 3"
   ]
  },
  {
   "cell_type": "code",
   "execution_count": 6,
   "id": "8e70a524-40fd-4397-8178-6b4a8712e455",
   "metadata": {},
   "outputs": [],
   "source": [
    "data_train_matcher = data[data['week_no'] < data['week_no'].max() - (VAL_MATCHER_WEEKS + VAL_RANKER_WEEKS)]\n",
    "\n",
    "data_val_matcher = data[(data['week_no'] >= data['week_no'].max() - (VAL_MATCHER_WEEKS + VAL_RANKER_WEEKS)) & \n",
    "                        (data['week_no'] < data['week_no'].max() - (VAL_RANKER_WEEKS))]\n",
    "\n",
    "data_train_ranker = data_val_matcher.copy()\n",
    "\n",
    "data_val_ranker = data[data['week_no'] >= data['week_no'].max() - VAL_RANKER_WEEKS]"
   ]
  },
  {
   "cell_type": "code",
   "execution_count": 7,
   "id": "04e62c3b-7d05-4b19-8598-2d76df7e226e",
   "metadata": {},
   "outputs": [
    {
     "name": "stdout",
     "output_type": "stream",
     "text": [
      "Decreased # items from 83685 to 5001\n"
     ]
    }
   ],
   "source": [
    "n_items_before = data_train_matcher['item_id'].nunique()\n",
    "\n",
    "data_train_matcher = prefilter_items(data_train_matcher, item_features=item_features, take_n_popular=5000)\n",
    "\n",
    "n_items_after = data_train_matcher['item_id'].nunique()\n",
    "print('Decreased # items from {} to {}'.format(n_items_before, n_items_after))"
   ]
  },
  {
   "cell_type": "code",
   "execution_count": 8,
   "id": "bb4bc47f-3c21-4947-bf7f-724114590f23",
   "metadata": {},
   "outputs": [
    {
     "name": "stderr",
     "output_type": "stream",
     "text": [
      "WARNING:root:Intel MKL BLAS detected. Its highly recommend to set the environment variable 'export MKL_NUM_THREADS=1' to disable its internal multithreading\n"
     ]
    },
    {
     "data": {
      "application/vnd.jupyter.widget-view+json": {
       "model_id": "ab16ce2631f94f969d4ccbd1413a2eb8",
       "version_major": 2,
       "version_minor": 0
      },
      "text/plain": [
       "  0%|          | 0/15 [00:00<?, ?it/s]"
      ]
     },
     "metadata": {},
     "output_type": "display_data"
    },
    {
     "data": {
      "application/vnd.jupyter.widget-view+json": {
       "model_id": "b68e8002e2d840a2a715fbff16c4ada3",
       "version_major": 2,
       "version_minor": 0
      },
      "text/plain": [
       "  0%|          | 0/5001 [00:00<?, ?it/s]"
      ]
     },
     "metadata": {},
     "output_type": "display_data"
    }
   ],
   "source": [
    "recommender = MainRecommender(data_train_matcher)"
   ]
  },
  {
   "cell_type": "markdown",
   "id": "32017425-f72b-4b6d-81af-6e88f99a856f",
   "metadata": {},
   "source": [
    "### Задание 1"
   ]
  },
  {
   "cell_type": "code",
   "execution_count": 9,
   "id": "e09a9964-c78b-449f-a798-0de33d205c78",
   "metadata": {},
   "outputs": [
    {
     "data": {
      "text/html": [
       "<div>\n",
       "<style scoped>\n",
       "    .dataframe tbody tr th:only-of-type {\n",
       "        vertical-align: middle;\n",
       "    }\n",
       "\n",
       "    .dataframe tbody tr th {\n",
       "        vertical-align: top;\n",
       "    }\n",
       "\n",
       "    .dataframe thead th {\n",
       "        text-align: right;\n",
       "    }\n",
       "</style>\n",
       "<table border=\"1\" class=\"dataframe\">\n",
       "  <thead>\n",
       "    <tr style=\"text-align: right;\">\n",
       "      <th></th>\n",
       "      <th>user_id</th>\n",
       "      <th>basket_id</th>\n",
       "      <th>day</th>\n",
       "      <th>item_id</th>\n",
       "      <th>quantity</th>\n",
       "      <th>sales_value</th>\n",
       "      <th>store_id</th>\n",
       "      <th>retail_disc</th>\n",
       "      <th>trans_time</th>\n",
       "      <th>week_no</th>\n",
       "      <th>coupon_disc</th>\n",
       "      <th>coupon_match_disc</th>\n",
       "      <th>price</th>\n",
       "    </tr>\n",
       "  </thead>\n",
       "  <tbody>\n",
       "    <tr>\n",
       "      <th>7</th>\n",
       "      <td>2375</td>\n",
       "      <td>26984851516</td>\n",
       "      <td>1</td>\n",
       "      <td>1085983</td>\n",
       "      <td>1</td>\n",
       "      <td>2.99</td>\n",
       "      <td>364</td>\n",
       "      <td>-0.4</td>\n",
       "      <td>1642</td>\n",
       "      <td>1</td>\n",
       "      <td>0.0</td>\n",
       "      <td>0.0</td>\n",
       "      <td>2.99</td>\n",
       "    </tr>\n",
       "    <tr>\n",
       "      <th>11</th>\n",
       "      <td>1364</td>\n",
       "      <td>26984896261</td>\n",
       "      <td>1</td>\n",
       "      <td>999999</td>\n",
       "      <td>1</td>\n",
       "      <td>2.19</td>\n",
       "      <td>31742</td>\n",
       "      <td>0.0</td>\n",
       "      <td>1520</td>\n",
       "      <td>1</td>\n",
       "      <td>0.0</td>\n",
       "      <td>0.0</td>\n",
       "      <td>2.19</td>\n",
       "    </tr>\n",
       "    <tr>\n",
       "      <th>12</th>\n",
       "      <td>1364</td>\n",
       "      <td>26984896261</td>\n",
       "      <td>1</td>\n",
       "      <td>999999</td>\n",
       "      <td>1</td>\n",
       "      <td>2.99</td>\n",
       "      <td>31742</td>\n",
       "      <td>-0.4</td>\n",
       "      <td>1520</td>\n",
       "      <td>1</td>\n",
       "      <td>0.0</td>\n",
       "      <td>0.0</td>\n",
       "      <td>2.99</td>\n",
       "    </tr>\n",
       "    <tr>\n",
       "      <th>13</th>\n",
       "      <td>1364</td>\n",
       "      <td>26984896261</td>\n",
       "      <td>1</td>\n",
       "      <td>999999</td>\n",
       "      <td>1</td>\n",
       "      <td>3.09</td>\n",
       "      <td>31742</td>\n",
       "      <td>0.0</td>\n",
       "      <td>1520</td>\n",
       "      <td>1</td>\n",
       "      <td>0.0</td>\n",
       "      <td>0.0</td>\n",
       "      <td>3.09</td>\n",
       "    </tr>\n",
       "  </tbody>\n",
       "</table>\n",
       "</div>"
      ],
      "text/plain": [
       "    user_id    basket_id  day  item_id  quantity  sales_value  store_id  \\\n",
       "7      2375  26984851516    1  1085983         1         2.99       364   \n",
       "11     1364  26984896261    1   999999         1         2.19     31742   \n",
       "12     1364  26984896261    1   999999         1         2.99     31742   \n",
       "13     1364  26984896261    1   999999         1         3.09     31742   \n",
       "\n",
       "    retail_disc  trans_time  week_no  coupon_disc  coupon_match_disc  price  \n",
       "7          -0.4        1642        1          0.0                0.0   2.99  \n",
       "11          0.0        1520        1          0.0                0.0   2.19  \n",
       "12         -0.4        1520        1          0.0                0.0   2.99  \n",
       "13          0.0        1520        1          0.0                0.0   3.09  "
      ]
     },
     "execution_count": 9,
     "metadata": {},
     "output_type": "execute_result"
    }
   ],
   "source": [
    "data_train_ranker = data_val_matcher.copy()\n",
    "\n",
    "data_val_ranker = data[data['week_no'] >= data['week_no'].max() - VAL_RANKER_WEEKS]\n",
    "\n",
    "data_train_matcher.head(4)"
   ]
  },
  {
   "cell_type": "code",
   "execution_count": 10,
   "id": "5de9d5a3-9ee7-49f5-893c-64e805623ba6",
   "metadata": {},
   "outputs": [
    {
     "data": {
      "text/html": [
       "<div>\n",
       "<style scoped>\n",
       "    .dataframe tbody tr th:only-of-type {\n",
       "        vertical-align: middle;\n",
       "    }\n",
       "\n",
       "    .dataframe tbody tr th {\n",
       "        vertical-align: top;\n",
       "    }\n",
       "\n",
       "    .dataframe thead th {\n",
       "        text-align: right;\n",
       "    }\n",
       "</style>\n",
       "<table border=\"1\" class=\"dataframe\">\n",
       "  <thead>\n",
       "    <tr style=\"text-align: right;\">\n",
       "      <th></th>\n",
       "      <th>user_id</th>\n",
       "      <th>actual</th>\n",
       "    </tr>\n",
       "  </thead>\n",
       "  <tbody>\n",
       "    <tr>\n",
       "      <th>0</th>\n",
       "      <td>1</td>\n",
       "      <td>[853529, 865456, 867607, 872137, 874905, 87524...</td>\n",
       "    </tr>\n",
       "    <tr>\n",
       "      <th>1</th>\n",
       "      <td>2</td>\n",
       "      <td>[15830248, 838136, 839656, 861272, 866211, 870...</td>\n",
       "    </tr>\n",
       "    <tr>\n",
       "      <th>2</th>\n",
       "      <td>4</td>\n",
       "      <td>[883932, 970760, 1035676, 1055863, 1097610, 67...</td>\n",
       "    </tr>\n",
       "    <tr>\n",
       "      <th>3</th>\n",
       "      <td>6</td>\n",
       "      <td>[1024306, 1102949, 6548453, 835394, 940804, 96...</td>\n",
       "    </tr>\n",
       "  </tbody>\n",
       "</table>\n",
       "</div>"
      ],
      "text/plain": [
       "   user_id                                             actual\n",
       "0        1  [853529, 865456, 867607, 872137, 874905, 87524...\n",
       "1        2  [15830248, 838136, 839656, 861272, 866211, 870...\n",
       "2        4  [883932, 970760, 1035676, 1055863, 1097610, 67...\n",
       "3        6  [1024306, 1102949, 6548453, 835394, 940804, 96..."
      ]
     },
     "execution_count": 10,
     "metadata": {},
     "output_type": "execute_result"
    }
   ],
   "source": [
    "result_1 = data_val_matcher.groupby('user_id')['item_id'].unique().reset_index()\n",
    "result_1.columns=['user_id', 'actual']\n",
    "\n",
    "result_1.head(4)"
   ]
  },
  {
   "cell_type": "code",
   "execution_count": 11,
   "id": "6196e19d-8b29-44a3-913c-6ea02aabaebd",
   "metadata": {},
   "outputs": [
    {
     "data": {
      "text/plain": [
       "2151"
      ]
     },
     "execution_count": 11,
     "metadata": {},
     "output_type": "execute_result"
    }
   ],
   "source": [
    "# посмотрим количество уникальных пользователей в тестовой выборке, предварительно убрав из неё тех, кого нет в тренировочной\n",
    "\n",
    "result_1 = result_1[result_1['user_id'].isin(data_train_matcher['user_id'].unique())]\n",
    "result_1['user_id'].count()"
   ]
  },
  {
   "cell_type": "code",
   "execution_count": 12,
   "id": "9207a4ef-3929-4a8c-9188-8729bb6b7cdd",
   "metadata": {},
   "outputs": [],
   "source": [
    "N_PREDICT = 50"
   ]
  },
  {
   "cell_type": "code",
   "execution_count": 13,
   "id": "6c93093a-632b-4630-96ea-07b1898b5856",
   "metadata": {},
   "outputs": [],
   "source": [
    "result_1['als_recommender'] = result_1['user_id'].apply(lambda x: recommender.get_als_recommendations(x, N=N_PREDICT))\n",
    "\n",
    "result_1['own_recommender'] = result_1['user_id'].apply(lambda x: recommender.get_own_recommendations(x, N=N_PREDICT))\n",
    "\n",
    "result_1['similar_items_recommender'] = result_1['user_id'].apply(lambda x: recommender.get_similar_items_recommendation(x, N=N_PREDICT))\n",
    "\n",
    "is_extend_with_top_popular = True\n",
    "result_1['own_recommender_top_popular'] = result_1['user_id'].apply(lambda x: recommender.get_own_recommendations(\n",
    "    x, N=N_PREDICT, extend_with_top_popular=is_extend_with_top_popular))"
   ]
  },
  {
   "cell_type": "code",
   "execution_count": 14,
   "id": "09100608-ca23-494d-b972-bbc1c4fc2b4e",
   "metadata": {},
   "outputs": [
    {
     "data": {
      "text/html": [
       "<div>\n",
       "<style scoped>\n",
       "    .dataframe tbody tr th:only-of-type {\n",
       "        vertical-align: middle;\n",
       "    }\n",
       "\n",
       "    .dataframe tbody tr th {\n",
       "        vertical-align: top;\n",
       "    }\n",
       "\n",
       "    .dataframe thead th {\n",
       "        text-align: right;\n",
       "    }\n",
       "</style>\n",
       "<table border=\"1\" class=\"dataframe\">\n",
       "  <thead>\n",
       "    <tr style=\"text-align: right;\">\n",
       "      <th></th>\n",
       "      <th>recommender</th>\n",
       "      <th>recall</th>\n",
       "    </tr>\n",
       "  </thead>\n",
       "  <tbody>\n",
       "    <tr>\n",
       "      <th>0</th>\n",
       "      <td>als_recommender</td>\n",
       "      <td>0.048461</td>\n",
       "    </tr>\n",
       "    <tr>\n",
       "      <th>1</th>\n",
       "      <td>own_recommender</td>\n",
       "      <td>0.065257</td>\n",
       "    </tr>\n",
       "    <tr>\n",
       "      <th>2</th>\n",
       "      <td>similar_items_recommender</td>\n",
       "      <td>0.033931</td>\n",
       "    </tr>\n",
       "    <tr>\n",
       "      <th>3</th>\n",
       "      <td>own_recommender_top_popular</td>\n",
       "      <td>0.065257</td>\n",
       "    </tr>\n",
       "  </tbody>\n",
       "</table>\n",
       "</div>"
      ],
      "text/plain": [
       "                   recommender    recall\n",
       "0              als_recommender  0.048461\n",
       "1              own_recommender  0.065257\n",
       "2    similar_items_recommender  0.033931\n",
       "3  own_recommender_top_popular  0.065257"
      ]
     },
     "execution_count": 14,
     "metadata": {},
     "output_type": "execute_result"
    }
   ],
   "source": [
    "recall_result = {'recommender': [], 'recall': []}\n",
    "\n",
    "columns = ['als_recommender',\n",
    "           'own_recommender',\n",
    "           'similar_items_recommender',\n",
    "           'own_recommender_top_popular'\n",
    "          ]\n",
    "\n",
    "for name in columns:\n",
    "    recall_result['recommender'].append(name)\n",
    "    recall_result['recall'].append(result_1.apply(lambda x: recall_at_k(x[name], x['actual'],  N_PREDICT), axis=1).mean()) \n",
    "\n",
    "pd.DataFrame(recall_result)"
   ]
  },
  {
   "cell_type": "code",
   "execution_count": 15,
   "id": "60c5068b-454a-4915-ba81-3857a5ba95c5",
   "metadata": {},
   "outputs": [],
   "source": [
    "def get_metric_result(metric, values):\n",
    "    metric_values = []\n",
    "    is_extend_with_top_popular = True\n",
    "    \n",
    "    for v in values:\n",
    "        result_1[f'own_recommender{v}'] = result_1['user_id'].apply(lambda x: recommender.get_own_recommendations(\n",
    "            x, N=v, extend_with_top_popular=is_extend_with_top_popular))\n",
    "        metric_values.append(result_1.apply(lambda x: metric(x[f'own_recommender{v}'], x['actual'],  v), axis=1).mean())\n",
    "        \n",
    "    return metric_values"
   ]
  },
  {
   "cell_type": "code",
   "execution_count": 16,
   "id": "a6a3d47e-d32a-4e44-babc-ba66aac5ed2f",
   "metadata": {},
   "outputs": [],
   "source": [
    "values = [10, 25, 50, 100, 200, 300]\n",
    "\n",
    "recall_at_k_metric = get_metric_result(recall_at_k, values)"
   ]
  },
  {
   "cell_type": "code",
   "execution_count": 17,
   "id": "2be54c63-524a-4260-a52c-dfbac0359a1f",
   "metadata": {},
   "outputs": [
    {
     "name": "stdout",
     "output_type": "stream",
     "text": [
      "value: 10, recall: 0.02687195384084942\n",
      "value: 25, recall: 0.044119547395835505\n",
      "value: 50, recall: 0.06525657038145175\n",
      "value: 100, recall: 0.09604492955885034\n",
      "value: 200, recall: 0.13537278412833242\n",
      "value: 300, recall: 0.15718418800895068\n"
     ]
    }
   ],
   "source": [
    "for value, recall in zip(values, recall_at_k_metric):\n",
    "    print(f'value: {value}, recall: {recall}')"
   ]
  },
  {
   "cell_type": "code",
   "execution_count": 18,
   "id": "ce89bd23-9fc0-4653-af8f-a2590cf4b19d",
   "metadata": {},
   "outputs": [],
   "source": [
    "precision_at_k_metric = get_metric_result(precision_at_k, values)"
   ]
  },
  {
   "cell_type": "code",
   "execution_count": 19,
   "id": "b22e4f41-8009-44d4-9032-95ba231d0693",
   "metadata": {},
   "outputs": [
    {
     "name": "stdout",
     "output_type": "stream",
     "text": [
      "value: 10, precision: 0.1400278940027893\n",
      "value: 25, precision: 0.09614132961413302\n",
      "value: 50, precision: 0.07247791724779204\n",
      "value: 100, precision: 0.05525801952580215\n",
      "value: 200, precision: 0.04180381218038137\n",
      "value: 300, precision: 0.03429257709592424\n"
     ]
    }
   ],
   "source": [
    "for value, precision in zip(values, precision_at_k_metric):\n",
    "    print(f'value: {value}, precision: {precision}')"
   ]
  },
  {
   "cell_type": "code",
   "execution_count": 20,
   "id": "9b114c28-e747-44a6-856d-392d99ee0038",
   "metadata": {},
   "outputs": [
    {
     "data": {
      "image/png": "[encoded data removed]",
      "text/plain": [
       "<Figure size 432x288 with 1 Axes>"
      ]
     },
     "metadata": {
      "needs_background": "light"
     },
     "output_type": "display_data"
    }
   ],
   "source": [
    "plt.plot(values, recall_at_k_metric, label='recall')\n",
    "plt.plot(values, precision_at_k_metric, label='precision')\n",
    "plt.xlabel('values')\n",
    "plt.legend()\n",
    "plt.show();"
   ]
  },
  {
   "cell_type": "markdown",
   "id": "8ca10a61-ca97-45d0-ae59-deefaf69e36c",
   "metadata": {},
   "source": [
    "Если в задачах бизнеса стоит баланс метрик, то оптимальным значением k для recall будет находящееся на стыке с k precision. В данном случае чуть больше 50 (около 58). Если бы нужно было максимизировать recall, то от 300 и выше."
   ]
  },
  {
   "cell_type": "markdown",
   "id": "78e62f7e-49d4-4b75-88f2-6eea76a8d10f",
   "metadata": {},
   "source": [
    "### Задание 2"
   ]
  },
  {
   "cell_type": "markdown",
   "id": "418ea416-8630-4f17-9988-d85c1a95eb63",
   "metadata": {},
   "source": [
    "В процессе("
   ]
  },
  {
   "cell_type": "code",
   "execution_count": null,
   "id": "7ed50c9c-0e43-4fd4-b383-0532c556e1b7",
   "metadata": {},
   "outputs": [],
   "source": []
  }
 ],
 "metadata": {
  "kernelspec": {
   "display_name": "Python 3 (ipykernel)",
   "language": "python",
   "name": "python3"
  },
  "language_info": {
   "codemirror_mode": {
    "name": "ipython",
    "version": 3
   },
   "file_extension": ".py",
   "mimetype": "text/x-python",
   "name": "python",
   "nbconvert_exporter": "python",
   "pygments_lexer": "ipython3",
   "version": "3.9.12"
  }
 },
 "nbformat": 4,
 "nbformat_minor": 5
}
