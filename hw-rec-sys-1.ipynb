{
 "cells": [
  {
   "cell_type": "code",
   "execution_count": 1,
   "id": "4a9ec46f",
   "metadata": {
    "_cell_guid": "b1076dfc-b9ad-4769-8c92-a6c4dae69d19",
    "_uuid": "8f2839f25d086af736a60e9eeb907d3b93b6e0e5",
    "execution": {
     "iopub.execute_input": "2022-11-27T06:23:59.664806Z",
     "iopub.status.busy": "2022-11-27T06:23:59.663401Z",
     "iopub.status.idle": "2022-11-27T06:23:59.678196Z",
     "shell.execute_reply": "2022-11-27T06:23:59.677010Z"
    },
    "papermill": {
     "duration": 0.025993,
     "end_time": "2022-11-27T06:23:59.680812",
     "exception": false,
     "start_time": "2022-11-27T06:23:59.654819",
     "status": "completed"
    },
    "tags": []
   },
   "outputs": [],
   "source": [
    "# This Python 3 environment comes with many helpful analytics libraries installed\n",
    "# It is defined by the kaggle/python Docker image: https://github.com/kaggle/docker-python\n",
    "# For example, here's several helpful packages to load\n",
    "\n",
    "import numpy as np # linear algebra\n",
    "import pandas as pd # data processing, CSV file I/O (e.g. pd.read_csv)\n",
    "\n",
    "# Input data files are available in the read-only \"../input/\" directory\n",
    "# For example, running this (by clicking run or pressing Shift+Enter) will list all files under the input directory\n",
    "\n",
    "import os\n",
    "for dirname, _, filenames in os.walk('/kaggle/input'):\n",
    "    for filename in filenames:\n",
    "        print(os.path.join(dirname, filename))\n",
    "\n",
    "# You can write up to 20GB to the current directory (/kaggle/working/) that gets preserved as output when you create a version using \"Save & Run All\" \n",
    "# You can also write temporary files to /kaggle/temp/, but they won't be saved outside of the current session"
   ]
  },
  {
   "cell_type": "code",
   "execution_count": 2,
   "id": "2d158e66",
   "metadata": {
    "execution": {
     "iopub.execute_input": "2022-11-27T06:23:59.693936Z",
     "iopub.status.busy": "2022-11-27T06:23:59.693499Z",
     "iopub.status.idle": "2022-11-27T06:23:59.698225Z",
     "shell.execute_reply": "2022-11-27T06:23:59.697185Z"
    },
    "papermill": {
     "duration": 0.013659,
     "end_time": "2022-11-27T06:23:59.700394",
     "exception": false,
     "start_time": "2022-11-27T06:23:59.686735",
     "status": "completed"
    },
    "tags": []
   },
   "outputs": [],
   "source": [
    "import numpy as np\n",
    "import pandas as pd"
   ]
  },
  {
   "cell_type": "markdown",
   "id": "ccc3b8ba",
   "metadata": {
    "papermill": {
     "duration": 0.005145,
     "end_time": "2022-11-27T06:23:59.711373",
     "exception": false,
     "start_time": "2022-11-27T06:23:59.706228",
     "status": "completed"
    },
    "tags": []
   },
   "source": [
    "## Задание 1. Реализовать метрики Recall@k и  Money Recall@k\n",
    "\n",
    "*Recall* - доля рекомендованных товаров среди релевантных = Какой % купленных товаров был среди рекомендованных\n",
    "\n",
    "$$\\Large Recall@K(i) = \\frac {\\sum_{j=1}^{K}\\mathbb{1}_{r_{ij}}}{|Rel_i|}$$\n",
    "\n",
    "$\\Large |Rel_i|$ -- количество релевантных товаров для пользователя $i$\n",
    "\n",
    "$$\\Large MoneyRecall@K(i) = \\frac {\\sum_{j=1}^{K}\\mathbb{1}_{r_{ij}}\\cdot Price(j)}{\\sum_{s\\in Rel_i}Price(s)}$$\n"
   ]
  },
  {
   "cell_type": "code",
   "execution_count": 3,
   "id": "47907284",
   "metadata": {
    "execution": {
     "iopub.execute_input": "2022-11-27T06:23:59.724350Z",
     "iopub.status.busy": "2022-11-27T06:23:59.723699Z",
     "iopub.status.idle": "2022-11-27T06:23:59.733576Z",
     "shell.execute_reply": "2022-11-27T06:23:59.732558Z"
    },
    "papermill": {
     "duration": 0.019087,
     "end_time": "2022-11-27T06:23:59.736071",
     "exception": false,
     "start_time": "2022-11-27T06:23:59.716984",
     "status": "completed"
    },
    "tags": []
   },
   "outputs": [],
   "source": [
    "def recall(recommended_list, bought_list):\n",
    "    bought_list = np.array(bought_list)\n",
    "    recommended_list = np.array(recommended_list)\n",
    "    \n",
    "    flags = np.isin(bought_list, recommended_list)\n",
    "    \n",
    "    return flags.sum() / len(bought_list)\n",
    "    \n",
    "\n",
    "def recall_at_k(recommended_list, bought_list, k=5):\n",
    "    bought_list = np.array(bought_list)\n",
    "    recommended_list = np.array(recommended_list)[:k]\n",
    "    \n",
    "    flags = np.isin(bought_list, recommended_list)\n",
    "    \n",
    "    return flags.sum() / len(bought_list)\n",
    "\n",
    "\n",
    "'''\n",
    "или:\n",
    "\n",
    "def recall_at_k(recommended_list, bought_list, k=5):\n",
    "    return recall(recommended_list[:k], bought_list)\n",
    "'''\n",
    "\n",
    "\n",
    "def money_recall_at_k(recommended_list, bought_list, prices_recommended, prices_bought, k=5):\n",
    "    bought_list = np.array(bought_list)\n",
    "    prices_bought = np.array(prices_bought)\n",
    "    recommended_list = np.array(recommended_list)[:k]\n",
    "    prices_recommended = np.array(prices_recommended)[:k]\n",
    "    \n",
    "    flags = np.isin(recommended_list, bought_list)\n",
    "    \n",
    "    recall = np.dot(flags, prices_recommended).sum() / prices_bought.sum()\n",
    "    \n",
    "    return recall"
   ]
  },
  {
   "cell_type": "code",
   "execution_count": 4,
   "id": "b35d77f9",
   "metadata": {
    "execution": {
     "iopub.execute_input": "2022-11-27T06:23:59.749430Z",
     "iopub.status.busy": "2022-11-27T06:23:59.749044Z",
     "iopub.status.idle": "2022-11-27T06:23:59.760298Z",
     "shell.execute_reply": "2022-11-27T06:23:59.759245Z"
    },
    "papermill": {
     "duration": 0.020898,
     "end_time": "2022-11-27T06:23:59.762783",
     "exception": false,
     "start_time": "2022-11-27T06:23:59.741885",
     "status": "completed"
    },
    "tags": []
   },
   "outputs": [],
   "source": [
    "recommended_list = [143, 156, 1134, 27, 1543, 3345, 533, 11, 43] #id товаров\n",
    "bought_list = [521, 32, 143, 991, 55]\n",
    "prices = [23, 2233, 534, 56, 1]\n",
    "prices_bought = [300, 100, 23, 4]"
   ]
  },
  {
   "cell_type": "code",
   "execution_count": 5,
   "id": "69e10d56",
   "metadata": {
    "execution": {
     "iopub.execute_input": "2022-11-27T06:23:59.775997Z",
     "iopub.status.busy": "2022-11-27T06:23:59.775576Z",
     "iopub.status.idle": "2022-11-27T06:23:59.786721Z",
     "shell.execute_reply": "2022-11-27T06:23:59.785592Z"
    },
    "papermill": {
     "duration": 0.021087,
     "end_time": "2022-11-27T06:23:59.789810",
     "exception": false,
     "start_time": "2022-11-27T06:23:59.768723",
     "status": "completed"
    },
    "tags": []
   },
   "outputs": [
    {
     "data": {
      "text/plain": [
       "0.2"
      ]
     },
     "execution_count": 5,
     "metadata": {},
     "output_type": "execute_result"
    }
   ],
   "source": [
    "recall(recommended_list, bought_list)"
   ]
  },
  {
   "cell_type": "code",
   "execution_count": 6,
   "id": "2e1d9074",
   "metadata": {
    "execution": {
     "iopub.execute_input": "2022-11-27T06:23:59.803308Z",
     "iopub.status.busy": "2022-11-27T06:23:59.802753Z",
     "iopub.status.idle": "2022-11-27T06:23:59.811120Z",
     "shell.execute_reply": "2022-11-27T06:23:59.809943Z"
    },
    "papermill": {
     "duration": 0.017555,
     "end_time": "2022-11-27T06:23:59.813395",
     "exception": false,
     "start_time": "2022-11-27T06:23:59.795840",
     "status": "completed"
    },
    "tags": []
   },
   "outputs": [
    {
     "data": {
      "text/plain": [
       "0.2"
      ]
     },
     "execution_count": 6,
     "metadata": {},
     "output_type": "execute_result"
    }
   ],
   "source": [
    "recall_at_k(recommended_list, bought_list, k=5)"
   ]
  },
  {
   "cell_type": "code",
   "execution_count": 7,
   "id": "1007733e",
   "metadata": {
    "execution": {
     "iopub.execute_input": "2022-11-27T06:23:59.826330Z",
     "iopub.status.busy": "2022-11-27T06:23:59.825964Z",
     "iopub.status.idle": "2022-11-27T06:23:59.832929Z",
     "shell.execute_reply": "2022-11-27T06:23:59.831886Z"
    },
    "papermill": {
     "duration": 0.015893,
     "end_time": "2022-11-27T06:23:59.834989",
     "exception": false,
     "start_time": "2022-11-27T06:23:59.819096",
     "status": "completed"
    },
    "tags": []
   },
   "outputs": [
    {
     "data": {
      "text/plain": [
       "0.053864168618266976"
      ]
     },
     "execution_count": 7,
     "metadata": {},
     "output_type": "execute_result"
    }
   ],
   "source": [
    "money_recall_at_k(recommended_list, bought_list, prices, prices_bought)"
   ]
  },
  {
   "cell_type": "code",
   "execution_count": 8,
   "id": "5a67cc84",
   "metadata": {
    "execution": {
     "iopub.execute_input": "2022-11-27T06:23:59.847865Z",
     "iopub.status.busy": "2022-11-27T06:23:59.847465Z",
     "iopub.status.idle": "2022-11-27T06:23:59.853571Z",
     "shell.execute_reply": "2022-11-27T06:23:59.852474Z"
    },
    "papermill": {
     "duration": 0.015657,
     "end_time": "2022-11-27T06:23:59.856291",
     "exception": false,
     "start_time": "2022-11-27T06:23:59.840634",
     "status": "completed"
    },
    "tags": []
   },
   "outputs": [],
   "source": [
    "recommended_list = [143, 156, 1134, 27, 1543, 3345, 533, 11, 43] #id товаров\n",
    "bought_list = [143, 156]\n",
    "prices = [23, 2233, 534, 56, 1]\n",
    "prices_bought = [23, 2233]"
   ]
  },
  {
   "cell_type": "code",
   "execution_count": 9,
   "id": "6d5957b0",
   "metadata": {
    "execution": {
     "iopub.execute_input": "2022-11-27T06:23:59.872648Z",
     "iopub.status.busy": "2022-11-27T06:23:59.872213Z",
     "iopub.status.idle": "2022-11-27T06:23:59.879447Z",
     "shell.execute_reply": "2022-11-27T06:23:59.878476Z"
    },
    "papermill": {
     "duration": 0.017312,
     "end_time": "2022-11-27T06:23:59.881695",
     "exception": false,
     "start_time": "2022-11-27T06:23:59.864383",
     "status": "completed"
    },
    "tags": []
   },
   "outputs": [
    {
     "data": {
      "text/plain": [
       "1.0"
      ]
     },
     "execution_count": 9,
     "metadata": {},
     "output_type": "execute_result"
    }
   ],
   "source": [
    "recall(recommended_list, bought_list)"
   ]
  },
  {
   "cell_type": "code",
   "execution_count": 10,
   "id": "327cfbaf",
   "metadata": {
    "execution": {
     "iopub.execute_input": "2022-11-27T06:23:59.895216Z",
     "iopub.status.busy": "2022-11-27T06:23:59.894799Z",
     "iopub.status.idle": "2022-11-27T06:23:59.902385Z",
     "shell.execute_reply": "2022-11-27T06:23:59.901179Z"
    },
    "papermill": {
     "duration": 0.016908,
     "end_time": "2022-11-27T06:23:59.904571",
     "exception": false,
     "start_time": "2022-11-27T06:23:59.887663",
     "status": "completed"
    },
    "tags": []
   },
   "outputs": [
    {
     "data": {
      "text/plain": [
       "1.0"
      ]
     },
     "execution_count": 10,
     "metadata": {},
     "output_type": "execute_result"
    }
   ],
   "source": [
    "recall_at_k(recommended_list, bought_list, k=5)"
   ]
  },
  {
   "cell_type": "code",
   "execution_count": 11,
   "id": "4ad54e17",
   "metadata": {
    "execution": {
     "iopub.execute_input": "2022-11-27T06:23:59.918194Z",
     "iopub.status.busy": "2022-11-27T06:23:59.917816Z",
     "iopub.status.idle": "2022-11-27T06:23:59.924935Z",
     "shell.execute_reply": "2022-11-27T06:23:59.923631Z"
    },
    "papermill": {
     "duration": 0.016819,
     "end_time": "2022-11-27T06:23:59.927220",
     "exception": false,
     "start_time": "2022-11-27T06:23:59.910401",
     "status": "completed"
    },
    "tags": []
   },
   "outputs": [
    {
     "data": {
      "text/plain": [
       "1.0"
      ]
     },
     "execution_count": 11,
     "metadata": {},
     "output_type": "execute_result"
    }
   ],
   "source": [
    "money_recall_at_k(recommended_list, bought_list, prices, prices_bought)"
   ]
  },
  {
   "cell_type": "markdown",
   "id": "1b3759c6",
   "metadata": {
    "papermill": {
     "duration": 0.005797,
     "end_time": "2022-11-27T06:23:59.939076",
     "exception": false,
     "start_time": "2022-11-27T06:23:59.933279",
     "status": "completed"
    },
    "tags": []
   },
   "source": [
    "## Задание 2. Реализовать метрику MRR@k\n",
    "\n",
    "Mean Reciprocal Rank\n",
    "\n",
    "- Считаем для первых k рекоммендаций\n",
    "- Найти ранк первого релевантного предсказания $\\Large rank_j$\n",
    "- Посчитать reciprocal rank = $\\Large\\frac{1}{rank_j}$\n",
    "\n",
    "$$\\Large  MMR(i)@k=\\frac {1}{\\min\\limits_{j\\in Rel(i)} rank_j}$$"
   ]
  },
  {
   "cell_type": "code",
   "execution_count": 12,
   "id": "b0449786",
   "metadata": {
    "execution": {
     "iopub.execute_input": "2022-11-27T06:23:59.953183Z",
     "iopub.status.busy": "2022-11-27T06:23:59.952707Z",
     "iopub.status.idle": "2022-11-27T06:23:59.960795Z",
     "shell.execute_reply": "2022-11-27T06:23:59.959666Z"
    },
    "papermill": {
     "duration": 0.017806,
     "end_time": "2022-11-27T06:23:59.963055",
     "exception": false,
     "start_time": "2022-11-27T06:23:59.945249",
     "status": "completed"
    },
    "tags": []
   },
   "outputs": [],
   "source": [
    "recommended_list = [156, 143, 1134, 27, 1543, 3345, 533, 11, 43]\n",
    "bought_list = [521, 32, 143, 991]\n",
    "\n",
    "recommended_list_3_users = [[143, 156, 1134, 991, 27, 1543, 3345, 533, 11, 43], # юзер 1\n",
    "                    [1134, 533, 14, 4, 15, 1543, 1, 99, 27, 3345], # юзер 2\n",
    "                    [991, 3345, 27, 533, 43, 143, 1543, 156, 1134, 11] # юзер 3\n",
    "                    ]\n",
    "\n",
    "bought_list_3_users = [[521, 32, 143], # юзер 1\n",
    "                       [143, 156, 991, 43, 11], # юзер 2\n",
    "                       [1, 2]] # юзер 3"
   ]
  },
  {
   "cell_type": "code",
   "execution_count": 13,
   "id": "42af45f8",
   "metadata": {
    "execution": {
     "iopub.execute_input": "2022-11-27T06:23:59.977628Z",
     "iopub.status.busy": "2022-11-27T06:23:59.976537Z",
     "iopub.status.idle": "2022-11-27T06:23:59.986853Z",
     "shell.execute_reply": "2022-11-27T06:23:59.985736Z"
    },
    "papermill": {
     "duration": 0.019915,
     "end_time": "2022-11-27T06:23:59.989223",
     "exception": false,
     "start_time": "2022-11-27T06:23:59.969308",
     "status": "completed"
    },
    "tags": []
   },
   "outputs": [],
   "source": [
    "def mrr_at_k(recommended_list, bought_list, k=5):\n",
    "    bought_list = np.array(bought_list, dtype=object)\n",
    "    recommended_list = np.array(recommended_list, dtype=object)[:k]\n",
    "\n",
    "    if True in [isinstance(ii, list) for ii in bought_list]:\n",
    "        assert len(recommended_list) == len(bought_list)\n",
    "        mrr = []\n",
    "        for i in range(len(bought_list)):\n",
    "            rank = np.nonzero(np.isin(recommended_list[i][:k], bought_list[i]))[0]\n",
    "            if len(rank) == 0:\n",
    "                break\n",
    "            rank = rank[0] + 1\n",
    "            rr = 1 / rank\n",
    "            mrr.append(rr)\n",
    "        return sum([1 / r for r in mrr]) / len(bought_list) if len(mrr) > 0 else 0\n",
    "    else:\n",
    "        rank = np.nonzero(np.isin(recommended_list, bought_list))[0]\n",
    "        if len(rank) == 0:\n",
    "            return 0\n",
    "        else:\n",
    "            rank = rank[0] + 1\n",
    "            return 1 / rank"
   ]
  },
  {
   "cell_type": "code",
   "execution_count": 14,
   "id": "829d87d5",
   "metadata": {
    "execution": {
     "iopub.execute_input": "2022-11-27T06:24:00.003945Z",
     "iopub.status.busy": "2022-11-27T06:24:00.003458Z",
     "iopub.status.idle": "2022-11-27T06:24:00.011406Z",
     "shell.execute_reply": "2022-11-27T06:24:00.010276Z"
    },
    "papermill": {
     "duration": 0.017993,
     "end_time": "2022-11-27T06:24:00.013624",
     "exception": false,
     "start_time": "2022-11-27T06:23:59.995631",
     "status": "completed"
    },
    "tags": []
   },
   "outputs": [
    {
     "data": {
      "text/plain": [
       "0.5"
      ]
     },
     "execution_count": 14,
     "metadata": {},
     "output_type": "execute_result"
    }
   ],
   "source": [
    "mrr_at_k(recommended_list, bought_list, k=5)"
   ]
  },
  {
   "cell_type": "code",
   "execution_count": 15,
   "id": "531e3921",
   "metadata": {
    "execution": {
     "iopub.execute_input": "2022-11-27T06:24:00.028385Z",
     "iopub.status.busy": "2022-11-27T06:24:00.027948Z",
     "iopub.status.idle": "2022-11-27T06:24:00.035481Z",
     "shell.execute_reply": "2022-11-27T06:24:00.034344Z"
    },
    "papermill": {
     "duration": 0.017385,
     "end_time": "2022-11-27T06:24:00.037621",
     "exception": false,
     "start_time": "2022-11-27T06:24:00.020236",
     "status": "completed"
    },
    "tags": []
   },
   "outputs": [
    {
     "data": {
      "text/plain": [
       "0.3333333333333333"
      ]
     },
     "execution_count": 15,
     "metadata": {},
     "output_type": "execute_result"
    }
   ],
   "source": [
    "mrr_at_k(recommended_list_3_users, bought_list_3_users, k=5)"
   ]
  },
  {
   "cell_type": "markdown",
   "id": "6e01ec93",
   "metadata": {
    "papermill": {
     "duration": 0.005944,
     "end_time": "2022-11-27T06:24:00.049980",
     "exception": false,
     "start_time": "2022-11-27T06:24:00.044036",
     "status": "completed"
    },
    "tags": []
   },
   "source": [
    "## Задание 3*. Реализовать метрику nDCG@k\n",
    "Normalized discounted cumulative gain. Эту метрику реализовать будет немного сложнее.\n",
    "\n",
    "$$\\Large DCG@K(i) = \\sum_{j=1}^{K}\\frac{\\mathbb{1}_{r_{ij}}}{\\log_2 (j+1)}$$\n",
    "\n",
    "\n",
    "$\\Large \\mathbb{1}_{r_{ij}}$ -- индикаторная функция показывает что пользователь $i$ провзаимодействовал с продуктом $j$\n",
    "\n",
    "Для подсчета $nDCG$ нам необходимо найти максимально возможный $DCG$ для пользователя $i$  и рекомендаций длины $K$.\n",
    "Максимальный $DCG$ достигается когда мы порекомендовали максимально возможное количество релевантных продуктов и все они в начале списка рекомендаций.\n",
    "\n",
    "$$\\Large IDCG@K(i) = max(DCG@K(i)) = \\sum_{j=1}^{K}\\frac{\\mathbb{1}_{j\\le|Rel_i|}}{\\log_2 (j+1)}$$\n",
    "\n",
    "$$\\Large nDCG@K(i) = \\frac {DCG@K(i)}{IDCG@K(i)}$$\n",
    "\n",
    "$\\Large |Rel_i|$ -- количество релевантных продуктов для пользователя $i$\n",
    "\n"
   ]
  },
  {
   "cell_type": "code",
   "execution_count": 16,
   "id": "5cb63dae",
   "metadata": {
    "execution": {
     "iopub.execute_input": "2022-11-27T06:24:00.064309Z",
     "iopub.status.busy": "2022-11-27T06:24:00.063861Z",
     "iopub.status.idle": "2022-11-27T06:24:00.069537Z",
     "shell.execute_reply": "2022-11-27T06:24:00.068452Z"
    },
    "papermill": {
     "duration": 0.015427,
     "end_time": "2022-11-27T06:24:00.071714",
     "exception": false,
     "start_time": "2022-11-27T06:24:00.056287",
     "status": "completed"
    },
    "tags": []
   },
   "outputs": [],
   "source": [
    "recommended_list = [156, 143, 1134, 27, 1543, 3345, 533, 11, 43]\n",
    "bought_list = [521, 32, 143, 991]"
   ]
  },
  {
   "cell_type": "code",
   "execution_count": 17,
   "id": "82a61021",
   "metadata": {
    "execution": {
     "iopub.execute_input": "2022-11-27T06:24:00.086347Z",
     "iopub.status.busy": "2022-11-27T06:24:00.085893Z",
     "iopub.status.idle": "2022-11-27T06:24:00.094577Z",
     "shell.execute_reply": "2022-11-27T06:24:00.093487Z"
    },
    "papermill": {
     "duration": 0.018632,
     "end_time": "2022-11-27T06:24:00.096795",
     "exception": false,
     "start_time": "2022-11-27T06:24:00.078163",
     "status": "completed"
    },
    "tags": []
   },
   "outputs": [],
   "source": [
    "def ndcg_at_k(recommended_list, bought_list, k=5):\n",
    "    bought_list = np.array(bought_list, dtype=object)\n",
    "    recommended_list = np.array(recommended_list, dtype=object)[:k]\n",
    "    \n",
    "    flags = np.isin(recommended_list, bought_list)\n",
    "    \n",
    "    dcg = 1 / len(recommended_list) * (sum([j / (i + 1) if i + 1 <= 2 else j / np.log2(i + 1) for i, j in enumerate(flags)]))\n",
    "    ideal_dcg = 1 / len(recommended_list) * (sum([1 / (i + 1) if i + 1 <= 2 else 1 / np.log2(i + 1) for i in range(len(flags))]))\n",
    "    ndcg = dcg / ideal_dcg\n",
    "    \n",
    "    return ndcg"
   ]
  },
  {
   "cell_type": "code",
   "execution_count": 18,
   "id": "e10b4b5a",
   "metadata": {
    "execution": {
     "iopub.execute_input": "2022-11-27T06:24:00.111672Z",
     "iopub.status.busy": "2022-11-27T06:24:00.110959Z",
     "iopub.status.idle": "2022-11-27T06:24:00.119071Z",
     "shell.execute_reply": "2022-11-27T06:24:00.117976Z"
    },
    "papermill": {
     "duration": 0.017978,
     "end_time": "2022-11-27T06:24:00.121226",
     "exception": false,
     "start_time": "2022-11-27T06:24:00.103248",
     "status": "completed"
    },
    "tags": []
   },
   "outputs": [
    {
     "data": {
      "text/plain": [
       "0.16331296355715133"
      ]
     },
     "execution_count": 18,
     "metadata": {},
     "output_type": "execute_result"
    }
   ],
   "source": [
    "ndcg_at_k(recommended_list, bought_list, k=5)"
   ]
  }
 ],
 "metadata": {
  "kernelspec": {
   "display_name": "Python 3",
   "language": "python",
   "name": "python3"
  },
  "language_info": {
   "codemirror_mode": {
    "name": "ipython",
    "version": 3
   },
   "file_extension": ".py",
   "mimetype": "text/x-python",
   "name": "python",
   "nbconvert_exporter": "python",
   "pygments_lexer": "ipython3",
   "version": "3.7.12"
  },
  "papermill": {
   "default_parameters": {},
   "duration": 10.990345,
   "end_time": "2022-11-27T06:24:00.749059",
   "environment_variables": {},
   "exception": null,
   "input_path": "__notebook__.ipynb",
   "output_path": "__notebook__.ipynb",
   "parameters": {},
   "start_time": "2022-11-27T06:23:49.758714",
   "version": "2.3.4"
  }
 },
 "nbformat": 4,
 "nbformat_minor": 5
}
